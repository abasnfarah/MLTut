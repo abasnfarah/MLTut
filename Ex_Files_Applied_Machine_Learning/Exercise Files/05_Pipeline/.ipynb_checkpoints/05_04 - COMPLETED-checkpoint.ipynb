{
 "cells": [
  {
   "cell_type": "markdown",
   "metadata": {},
   "source": [
    "## Pipeline: Fit a basic model\n",
    "\n",
    "Using the Titanic dataset from [this](https://www.kaggle.com/c/titanic/overview) Kaggle competition.\n",
    "\n",
    "In this section, we will fit and evaluate a basic model using 5-fold Cross-Validation."
   ]
  },
  {
   "cell_type": "markdown",
   "metadata": {},
   "source": [
    "### Read in data & create train/validation/test set\n",
    "\n",
    "![Initial Model](img/fit_model.png)\n",
    "\n",
    "_Welcome back, in this lesson we're going to fit a single, basic model using Cross-Validation._\n",
    "\n",
    "_Remember that this phase is still going to take place on **only** the training set. So we will import all of the packages we need which will include `RandomForestClassifier` which is the algorithm we'll be using, `cross val score` which will aid us in our Cross Validation and then the same `train test split` method we have used previously. We will import our data and then we're going to split our data into train, test, and validation data._"
   ]
  },
  {
   "cell_type": "code",
   "execution_count": 1,
   "metadata": {},
   "outputs": [],
   "source": [
    "import pandas as pd\n",
    "from sklearn.ensemble import RandomForestClassifier\n",
    "from sklearn.model_selection import cross_val_score, train_test_split\n",
    "\n",
    "titanic = pd.read_csv('../titanic_cleaned.csv')\n",
    "\n",
    "features = titanic.drop('Survived', axis=1)\n",
    "labels = titanic['Survived']\n",
    "\n",
    "X_train, X_val, y_train, y_val = train_test_split(features, labels, test_size=0.4, random_state=42)\n",
    "X_test, X_val, y_test, y_val = train_test_split(X_val, y_val, test_size=0.5, random_state=42)"
   ]
  },
  {
   "cell_type": "markdown",
   "metadata": {},
   "source": [
    "### Fit and evaluate a basic model using 5-fold Cross-Validation\n",
    "\n",
    "![CV Image](img/CV_image.png)\n",
    "\n",
    "_As a refresher, review this diagram explaining what Cross-Validation is. 5-fold Cross Validation will split our training set into 5 sections and then it will iterate through the data 5 times, each time fitting a model on 4 sections and evaluating the model on the 5th section. In the end, each section and thus every example will have been used to train a model 4 times and evaluate a model once. Then at the end we will get an array with all of our model scores in it for each of the five folds._\n",
    "\n",
    "_So the first thing we do is instantiate our `Random Forest Classifier` and we'll store that as rf. I'll note that we **could** pass in hyperparameters here but we will choose to leave that empty for now (we'll get to that in the next lesson) so it will just use the default hyperparameters settings._\n",
    "\n",
    "_Then the only thing we have to do is call `cross val score`. What this method expects is you to pass in a model object (so `rf`), your features (so `X train`), your labels (so `y train`), and lastly tell it hold many folds you want. So we will pass in 5, and then store it as scores._"
   ]
  },
  {
   "cell_type": "code",
   "execution_count": 2,
   "metadata": {},
   "outputs": [
    {
     "name": "stderr",
     "output_type": "stream",
     "text": [
      "/Users/djedamski/.pyenv/versions/3.6.2/lib/python3.6/site-packages/sklearn/ensemble/forest.py:246: FutureWarning: The default value of n_estimators will change from 10 in version 0.20 to 100 in 0.22.\n",
      "  \"10 in version 0.20 to 100 in 0.22.\", FutureWarning)\n",
      "/Users/djedamski/.pyenv/versions/3.6.2/lib/python3.6/site-packages/sklearn/ensemble/forest.py:246: FutureWarning: The default value of n_estimators will change from 10 in version 0.20 to 100 in 0.22.\n",
      "  \"10 in version 0.20 to 100 in 0.22.\", FutureWarning)\n",
      "/Users/djedamski/.pyenv/versions/3.6.2/lib/python3.6/site-packages/sklearn/ensemble/forest.py:246: FutureWarning: The default value of n_estimators will change from 10 in version 0.20 to 100 in 0.22.\n",
      "  \"10 in version 0.20 to 100 in 0.22.\", FutureWarning)\n",
      "/Users/djedamski/.pyenv/versions/3.6.2/lib/python3.6/site-packages/sklearn/ensemble/forest.py:246: FutureWarning: The default value of n_estimators will change from 10 in version 0.20 to 100 in 0.22.\n",
      "  \"10 in version 0.20 to 100 in 0.22.\", FutureWarning)\n",
      "/Users/djedamski/.pyenv/versions/3.6.2/lib/python3.6/site-packages/sklearn/ensemble/forest.py:246: FutureWarning: The default value of n_estimators will change from 10 in version 0.20 to 100 in 0.22.\n",
      "  \"10 in version 0.20 to 100 in 0.22.\", FutureWarning)\n"
     ]
    }
   ],
   "source": [
    "rf = RandomForestClassifier()\n",
    "scores = cross_val_score(rf, X_train, y_train, cv=5)"
   ]
  },
  {
   "cell_type": "markdown",
   "metadata": {},
   "source": [
    "_Now, this `Cross Val Score` method will handle everything in the diagram above under the hood. As you can see, it's **really** easy to use. Now lets just print out the scores._\n",
    "\n",
    "_You can see that the average is probably right around 80% accuracy but the great thing about this is it shows you what the score is training and evaluating on different sections of the data to make sure overfitting to some subset of data isn't impacting our scores. So we can say around 80% accuracy but depending on the subset trained on that could be as low as 77% or as high as 83% so it gives us a nice range._\n",
    "\n",
    "_Now, for instance if we had only fit it on one training set - maybe we would get an accuracy of 77% but we would have no idea what a reasonable range might be and we wouldn't know if it was just overfitting to this one particular subset of data. Perhaps 77% is the average but it could go as high as 85% or as low as 70%. We really wouldn't know. That is just one of the benefits of Cross-Validation._"
   ]
  },
  {
   "cell_type": "code",
   "execution_count": 3,
   "metadata": {},
   "outputs": [
    {
     "data": {
      "text/plain": [
       "array([0.82407407, 0.82242991, 0.78504673, 0.77358491, 0.82075472])"
      ]
     },
     "execution_count": 3,
     "metadata": {},
     "output_type": "execute_result"
    }
   ],
   "source": [
    "scores"
   ]
  },
  {
   "cell_type": "code",
   "execution_count": null,
   "metadata": {},
   "outputs": [],
   "source": []
  }
 ],
 "metadata": {
  "kernelspec": {
   "display_name": "Python 3",
   "language": "python",
   "name": "python3"
  },
  "language_info": {
   "codemirror_mode": {
    "name": "ipython",
    "version": 3
   },
   "file_extension": ".py",
   "mimetype": "text/x-python",
   "name": "python",
   "nbconvert_exporter": "python",
   "pygments_lexer": "ipython3",
   "version": "3.6.2"
  }
 },
 "nbformat": 4,
 "nbformat_minor": 2
}
