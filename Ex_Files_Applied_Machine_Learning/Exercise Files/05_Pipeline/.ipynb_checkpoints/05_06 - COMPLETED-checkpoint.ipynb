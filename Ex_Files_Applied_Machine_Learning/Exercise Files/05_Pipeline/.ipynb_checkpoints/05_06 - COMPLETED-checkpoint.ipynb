{
 "cells": [
  {
   "cell_type": "markdown",
   "metadata": {},
   "source": [
    "## Pipeline: Evaluate results on validation set\n",
    "\n",
    "Using the Titanic dataset from [this](https://www.kaggle.com/c/titanic/overview) Kaggle competition.\n",
    "\n",
    "In this section, we will use what we learned in last section to fit the best few models on the full training set and then evaluate the model on the validation set."
   ]
  },
  {
   "cell_type": "markdown",
   "metadata": {},
   "source": [
    "### Read in data & create train/validation/test set"
   ]
  },
  {
   "cell_type": "code",
   "execution_count": 8,
   "metadata": {},
   "outputs": [],
   "source": [
    "import pandas as pd\n",
    "from sklearn.ensemble import RandomForestClassifier\n",
    "from sklearn.metrics import accuracy_score, precision_score, recall_score, roc_auc_score\n",
    "from sklearn.model_selection import train_test_split, GridSearchCV\n",
    "\n",
    "titanic = pd.read_csv('../titanic_cleaned.csv')\n",
    "\n",
    "features = titanic.drop('Survived', axis=1)\n",
    "labels = titanic['Survived']\n",
    "\n",
    "X_train, X_val, y_train, y_val = train_test_split(features, labels, test_size=0.4, random_state=42)\n",
    "X_test, X_val, y_test, y_val = train_test_split(X_val, y_val, test_size=0.5, random_state=42)"
   ]
  },
  {
   "cell_type": "markdown",
   "metadata": {},
   "source": [
    "### Fit best models on full training set\n",
    "\n",
    "Results from last section:\n",
    "```\n",
    "0.813 (+/-0.112) for {'max_depth': 2, 'n_estimators': 5}\n",
    "0.8 (+/-0.124) for {'max_depth': 2, 'n_estimators': 50}\n",
    "0.801 (+/-0.117) for {'max_depth': 2, 'n_estimators': 100}\n",
    "0.792 (+/-0.037) for {'max_depth': 10, 'n_estimators': 5}\n",
    "--> 0.82 (+/-0.052) for {'max_depth': 10, 'n_estimators': 50}\n",
    "--> 0.826 (+/-0.048) for {'max_depth': 10, 'n_estimators': 100}\n",
    "0.803 (+/-0.043) for {'max_depth': 20, 'n_estimators': 5}\n",
    "--> 0.822 (+/-0.054) for {'max_depth': 20, 'n_estimators': 50}\n",
    "0.811 (+/-0.051) for {'max_depth': 20, 'n_estimators': 100}\n",
    "0.798 (+/-0.051) for {'max_depth': None, 'n_estimators': 5}\n",
    "0.811 (+/-0.06) for {'max_depth': None, 'n_estimators': 50}\n",
    "0.818 (+/-0.04) for {'max_depth': None, 'n_estimators': 100}\n",
    "```"
   ]
  },
  {
   "cell_type": "code",
   "execution_count": 19,
   "metadata": {},
   "outputs": [
    {
     "data": {
      "text/plain": [
       "RandomForestClassifier(bootstrap=True, class_weight=None, criterion='gini',\n",
       "            max_depth=20, max_features='auto', max_leaf_nodes=None,\n",
       "            min_impurity_decrease=0.0, min_impurity_split=None,\n",
       "            min_samples_leaf=1, min_samples_split=2,\n",
       "            min_weight_fraction_leaf=0.0, n_estimators=50, n_jobs=None,\n",
       "            oob_score=False, random_state=None, verbose=0,\n",
       "            warm_start=False)"
      ]
     },
     "execution_count": 19,
     "metadata": {},
     "output_type": "execute_result"
    }
   ],
   "source": [
    "rf1 = RandomForestClassifier(n_estimators = 50, max_depth = 10)\n",
    "rf2 = RandomForestClassifier(n_estimators = 100, max_depth = 10)\n",
    "rf3 = RandomForestClassifier(n_estimators = 50, max_depth = 20)\n",
    "\n",
    "rf1.fit(X_train, y_train)\n",
    "rf2.fit(X_train, y_train)\n",
    "rf3.fit(X_train, y_train)"
   ]
  },
  {
   "cell_type": "markdown",
   "metadata": {},
   "source": [
    "### Evaluate models on validation set\n",
    "\n",
    "![Evaluation Metrics](img/eval_metrics.png)"
   ]
  },
  {
   "cell_type": "code",
   "execution_count": 18,
   "metadata": {},
   "outputs": [
    {
     "name": "stdout",
     "output_type": "stream",
     "text": [
      "MAX DEPTH: 10 / # OF EST: 50 -- A: 0.81 / P: 0.818 / R: 0.711 / AUC: 0.797\n",
      "MAX DEPTH: 10 / # OF EST: 100 -- A: 0.816 / P: 0.831 / R: 0.711 / AUC: 0.802\n",
      "MAX DEPTH: 20 / # OF EST: 50 -- A: 0.832 / P: 0.848 / R: 0.737 / AUC: 0.82\n"
     ]
    }
   ],
   "source": [
    "for i in [rf1, rf2, rf3]:\n",
    "    y_pred = i.predict(X_val)\n",
    "    accuracy = round(accuracy_score(y_val, y_pred), 3)\n",
    "    precision = round(precision_score(y_val, y_pred), 3)\n",
    "    recall = round(recall_score(y_val, y_pred), 3)\n",
    "    auc = round(roc_auc_score(y_val, y_pred), 3)\n",
    "    print('MAX DEPTH: {} / # OF EST: {} -- A: {} / P: {} / R: {} / AUC: {}'.format(i.max_depth,\n",
    "                                                                                   i.n_estimators,\n",
    "                                                                                   accuracy,\n",
    "                                                                                   precision,\n",
    "                                                                                   recall,\n",
    "                                                                                   auc))"
   ]
  },
  {
   "cell_type": "code",
   "execution_count": null,
   "metadata": {},
   "outputs": [],
   "source": []
  }
 ],
 "metadata": {
  "kernelspec": {
   "display_name": "Python 3",
   "language": "python",
   "name": "python3"
  },
  "language_info": {
   "codemirror_mode": {
    "name": "ipython",
    "version": 3
   },
   "file_extension": ".py",
   "mimetype": "text/x-python",
   "name": "python",
   "nbconvert_exporter": "python",
   "pygments_lexer": "ipython3",
   "version": "3.6.2"
  }
 },
 "nbformat": 4,
 "nbformat_minor": 2
}
