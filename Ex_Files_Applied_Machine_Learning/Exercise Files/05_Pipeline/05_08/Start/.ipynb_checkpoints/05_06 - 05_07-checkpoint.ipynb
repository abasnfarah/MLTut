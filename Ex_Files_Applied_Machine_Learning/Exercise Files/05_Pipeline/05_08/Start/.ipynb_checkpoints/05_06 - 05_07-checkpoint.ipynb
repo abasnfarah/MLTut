{
 "cells": [
  {
   "cell_type": "markdown",
   "metadata": {},
   "source": [
    "## Pipeline: Evaluate results on validation set\n",
    "\n",
    "Using the Titanic dataset from [this](https://www.kaggle.com/c/titanic/overview) Kaggle competition.\n",
    "\n",
    "In this section, we will use what we learned in last section to fit the best few models on the full training set and then evaluate the model on the validation set."
   ]
  },
  {
   "cell_type": "markdown",
   "metadata": {},
   "source": [
    "### Read in data & create train/validation/test set\n",
    "\n",
    "![Eval on Validation](../../img/evaluate_on_validation.png)"
   ]
  },
  {
   "cell_type": "code",
   "execution_count": null,
   "metadata": {},
   "outputs": [],
   "source": [
    "import pandas as pd\n",
    "from sklearn.ensemble import RandomForestClassifier\n",
    "from sklearn.metrics import accuracy_score, precision_score, recall_score\n",
    "from sklearn.model_selection import train_test_split\n",
    "\n",
    "titanic = pd.read_csv('../../../titanic_cleaned.csv')\n",
    "\n",
    "features = titanic.drop('Survived', axis=1)\n",
    "labels = titanic['Survived']\n",
    "\n",
    "X_train, X_val, y_train, y_val = train_test_split(features, labels, test_size=0.4, random_state=42)\n",
    "X_test, X_val, y_test, y_val = train_test_split(X_val, y_val, test_size=0.5, random_state=42)"
   ]
  },
  {
   "cell_type": "markdown",
   "metadata": {},
   "source": [
    "### Fit best models on full training set\n",
    "\n",
    "Results from last section:\n",
    "```\n",
    "0.813 (+/-0.112) for {'max_depth': 2, 'n_estimators': 5}\n",
    "0.8 (+/-0.124) for {'max_depth': 2, 'n_estimators': 50}\n",
    "0.801 (+/-0.117) for {'max_depth': 2, 'n_estimators': 100}\n",
    "0.792 (+/-0.037) for {'max_depth': 10, 'n_estimators': 5}\n",
    "--> 0.82 (+/-0.052) for {'max_depth': 10, 'n_estimators': 50}\n",
    "--> 0.826 (+/-0.048) for {'max_depth': 10, 'n_estimators': 100}\n",
    "0.803 (+/-0.043) for {'max_depth': 20, 'n_estimators': 5}\n",
    "--> 0.822 (+/-0.054) for {'max_depth': 20, 'n_estimators': 50}\n",
    "0.811 (+/-0.051) for {'max_depth': 20, 'n_estimators': 100}\n",
    "0.798 (+/-0.051) for {'max_depth': None, 'n_estimators': 5}\n",
    "0.811 (+/-0.06) for {'max_depth': None, 'n_estimators': 50}\n",
    "0.818 (+/-0.04) for {'max_depth': None, 'n_estimators': 100}\n",
    "```"
   ]
  },
  {
   "cell_type": "code",
   "execution_count": null,
   "metadata": {},
   "outputs": [],
   "source": [
    "rf1 = RandomForestClassifier()\n",
    "rf1.fit(X_train, y_train)"
   ]
  },
  {
   "cell_type": "markdown",
   "metadata": {},
   "source": [
    "### Evaluate models on validation set\n",
    "\n",
    "![Evaluation Metrics](../../img/eval_metrics.png)"
   ]
  },
  {
   "cell_type": "code",
   "execution_count": null,
   "metadata": {},
   "outputs": [],
   "source": [
    "for mdl in []:\n",
    "    accuracy = round(, 3)\n",
    "    precision = round(, 3)\n",
    "    recall = round(, 3)\n",
    "    print('MAX DEPTH: {} / # OF EST: {} -- A: {} / P: {} / R: {}'.format(mdl.max_depth,\n",
    "                                                                                   mdl.n_estimators,\n",
    "                                                                                   accuracy,\n",
    "                                                                                   precision,\n",
    "                                                                                   recall))"
   ]
  },
  {
   "cell_type": "markdown",
   "metadata": {},
   "source": [
    "### Evaluate the best model on the test set\n",
    "\n",
    "![Final Model](../../img/final_model_selection.png)"
   ]
  },
  {
   "cell_type": "code",
   "execution_count": null,
   "metadata": {},
   "outputs": [],
   "source": [
    "y_pred = rf2.predict(X_test)\n",
    "accuracy = round(accuracy_score(y_test, y_pred), 3)\n",
    "precision = round(precision_score(y_test, y_pred), 3)\n",
    "recall = round(recall_score(y_test, y_pred), 3)\n",
    "print('MAX DEPTH: {} / # OF EST: {} -- A: {} / P: {} / R: {}'.format(mdl.max_depth,\n",
    "                                                                     mdl.n_estimators,\n",
    "                                                                     accuracy,\n",
    "                                                                     precision,\n",
    "                                                                     recall))"
   ]
  }
 ],
 "metadata": {
  "kernelspec": {
   "display_name": "Python 2",
   "language": "python",
   "name": "python2"
  },
  "language_info": {
   "codemirror_mode": {
    "name": "ipython",
    "version": 2
   },
   "file_extension": ".py",
   "mimetype": "text/x-python",
   "name": "python",
   "nbconvert_exporter": "python",
   "pygments_lexer": "ipython2",
   "version": "2.7.15"
  }
 },
 "nbformat": 4,
 "nbformat_minor": 2
}
